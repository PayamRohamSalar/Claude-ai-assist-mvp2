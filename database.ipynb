{
 "cells": [
  {
   "cell_type": "markdown",
   "id": "b368710b",
   "metadata": {},
   "source": [
    "# Work with my DataBase"
   ]
  },
  {
   "cell_type": "code",
   "execution_count": 3,
   "id": "492be8d0",
   "metadata": {},
   "outputs": [],
   "source": [
    "import sqlite3\n",
    "import os"
   ]
  },
  {
   "cell_type": "code",
   "execution_count": null,
   "id": "432da48c",
   "metadata": {},
   "outputs": [
    {
     "name": "stdout",
     "output_type": "stream",
     "text": [
      "Connection to the database successful!\n"
     ]
    }
   ],
   "source": [
    "# آدرس فایل دیتابیس\n",
    "db_path = r'data\\db\\legal_assistant.db'\n",
    "# Check if the database file exists\n",
    "if not os.path.exists(db_path):\n",
    "    print(f\"Error: The database file was not found at {db_path}\")\n",
    "else:\n",
    "    try:\n",
    "        # Connect to the database\n",
    "        conn = sqlite3.connect(db_path)\n",
    "        print(\"Connection to the database successful!\")\n",
    "    except sqlite3.Error as e:\n",
    "        print(f\"Error connecting to the database: {e}\")"
   ]
  },
  {
   "cell_type": "code",
   "execution_count": 6,
   "id": "cd38f22e",
   "metadata": {},
   "outputs": [
    {
     "name": "stdout",
     "output_type": "stream",
     "text": [
      "Tables in the database:\n",
      "documents\n",
      "sqlite_sequence\n",
      "chapters\n",
      "articles\n",
      "notes\n",
      "clauses\n",
      "documents_fts\n",
      "documents_fts_data\n",
      "documents_fts_idx\n",
      "documents_fts_docsize\n",
      "documents_fts_config\n",
      "articles_fts\n",
      "articles_fts_data\n",
      "articles_fts_idx\n",
      "articles_fts_docsize\n",
      "articles_fts_config\n",
      "notes_fts\n",
      "notes_fts_data\n",
      "notes_fts_idx\n",
      "notes_fts_docsize\n",
      "notes_fts_config\n",
      "clauses_fts\n",
      "clauses_fts_data\n",
      "clauses_fts_idx\n",
      "clauses_fts_docsize\n",
      "clauses_fts_config\n"
     ]
    }
   ],
   "source": [
    "cursor = conn.cursor()\n",
    "\n",
    "# Query to list tables\n",
    "cursor.execute(\"SELECT name FROM sqlite_master WHERE type='table';\")\n",
    "\n",
    "# Fetch all results\n",
    "tables = cursor.fetchall()\n",
    "print(\"Tables in the database:\")\n",
    "for table in tables:\n",
    "    print(table[0])\n",
    "\n",
    "# Close the connection\n",
    "cursor.close()\n",
    "conn.close()"
   ]
  },
  {
   "cell_type": "code",
   "execution_count": 8,
   "id": "28bd37f0",
   "metadata": {},
   "outputs": [
    {
     "name": "stdout",
     "output_type": "stream",
     "text": [
      "--- Schema for table 'documents': ---\n",
      "  - Name: id, Type: INTEGER, Primary Key: True\n",
      "  - Name: document_uid, Type: TEXT, Primary Key: False\n",
      "  - Name: title, Type: TEXT, Primary Key: False\n",
      "  - Name: document_type, Type: TEXT, Primary Key: False\n",
      "  - Name: section, Type: TEXT, Primary Key: False\n",
      "  - Name: approval_authority, Type: TEXT, Primary Key: False\n",
      "  - Name: approval_date, Type: TEXT, Primary Key: False\n",
      "  - Name: effective_date, Type: TEXT, Primary Key: False\n",
      "  - Name: document_number, Type: TEXT, Primary Key: False\n",
      "  - Name: subject, Type: TEXT, Primary Key: False\n",
      "  - Name: keywords, Type: TEXT, Primary Key: False\n",
      "  - Name: confidence_score, Type: REAL, Primary Key: False\n",
      "  - Name: source_file, Type: TEXT, Primary Key: False\n",
      "  - Name: created_at, Type: TEXT, Primary Key: False\n",
      "  - Name: updated_at, Type: TEXT, Primary Key: False\n",
      "\n",
      "--- First 10 rows of table 'documents': ---\n",
      "  Columns: ['id', 'document_uid', 'title', 'document_type', 'section', 'approval_authority', 'approval_date', 'effective_date', 'document_number', 'subject', 'keywords', 'confidence_score', 'source_file', 'created_at', 'updated_at']\n",
      "  (6, 'de2025f7354abff9', 'قانون مقررات انتظامی هییت علمی دانشگاه\\u200cها و موسسات آموزش عالی و تحقیقاتی کشور', 'قانون', None, 'مجلس شورای اسلامی', '22/12/1364', '', 'DOC_001', '', '[]', 0.9, 'data\\\\processed_phase_1\\\\cleaned_split_Part2_Legals_20250819_222734_20250822_212501.json', '2025-08-26T14:10:36.338831', '2025-08-26T14:10:36.338831')\n",
      "  (7, '55f7def0eac3da42', 'قانون نحوه تآمین هییت\\u200cعلمی مورد نیاز دانشگاه\\u200cها و موسسات آموزش عالی کشور', 'قانون', None, 'مجلس شورای اسلامی', '1/3/1365', '', 'DOC_002', '', '[]', 0.9, 'data\\\\processed_phase_1\\\\cleaned_split_Part2_Legals_20250819_222734_20250822_212501.json', '2025-08-26T14:10:36.375910', '2025-08-26T14:10:36.375910')\n",
      "  (8, '17032b461c654ba8', 'قانون استفاده از خدمت خارج از وقت اداری اعضأ هییت علمی و اعضأ غیر\\u200cهییت علمی دانشگاه\\u200cها و موسسات آموزش عالی کشور', 'قانون', None, 'مجلس شورای اسلامی', '7/5/1365', '', 'DOC_003', '', '[]', 0.9, 'data\\\\processed_phase_1\\\\cleaned_split_Part2_Legals_20250819_222734_20250822_212501.json', '2025-08-26T14:10:36.386738', '2025-08-26T14:10:36.386738')\n",
      "  (9, '2e27ac47f9873a5e', 'قانون نحوه انجام امور مالی و معاملاتی دانشگاه\\u200cها و موسسات آموزش عالی و تحقیقاتی', 'قانون', None, 'مجلس شورای اسلامی', '18/10/1369', '', 'DOC_004', '', '[]', 0.9, 'data\\\\processed_phase_1\\\\cleaned_split_Part2_Legals_20250819_222734_20250822_212501.json', '2025-08-26T14:10:36.396384', '2025-08-26T14:10:36.396384')\n",
      "  (10, '3ebe8054b5a1b47b', 'قانون لزوم استفاده دانشگاه\\u200cها و موسسات آموزش عالی و تحقیقاتی شاهد از تسهیلات مقرر در قانون نحوه تآمین هییت علمی مورد نیاز دانشگاه\\u200cها و موسسات آموزش عالی کشور مصوب 1/3/1365', 'قانون', None, 'مجلس شورای اسلامی', '4/10/1370', '', 'DOC_005', '', '[]', 0.9, 'data\\\\processed_phase_1\\\\cleaned_split_Part2_Legals_20250819_222734_20250822_212501.json', '2025-08-26T14:10:36.406332', '2025-08-26T14:10:36.406332')\n",
      "  (11, '7dd0ff3eb44d8442', 'قانون اجازه ادامه تحصیل در مقاطع تحصیلی بالاتر به مشمولان قانون نحوه تآمین هییت علمی مورد نیاز دانشگاه\\u200cها و موسسات آموزش عالی کشور (\\u200cاعم از دولتی و غیر\\u200cدولتی)', 'قانون', None, 'مجلس شورای اسلامی', '21/2/1372', '', 'DOC_006', '', '[]', 0.9, 'data\\\\processed_phase_1\\\\cleaned_split_Part2_Legals_20250819_222734_20250822_212501.json', '2025-08-26T14:10:36.414508', '2025-08-26T14:10:36.414508')\n",
      "  (12, 'd1484412ca6fcc29', 'قانون تعطیل موسسات و واحدهای آموزشی و تحقیقاتی و فرهنگی که بدون اخذ مجوز قانونی دایر شده و می\\u200cشود.', 'قانون', None, 'مجلس شورای اسلامی', '7/10/1372', '', 'DOC_007', '', '[]', 0.9, 'data\\\\processed_phase_1\\\\cleaned_split_Part2_Legals_20250819_222734_20250822_212501.json', '2025-08-26T14:10:36.422486', '2025-08-26T14:10:36.422486')\n",
      "  (13, '78df6f872db9ebb1', 'قانون ممنوعیت تصدی بیش از یک شغل', 'قانون', None, 'مجلس شورای اسلامی', '11/10/1373', '', 'DOC_008', '', '[]', 0.9, 'data\\\\processed_phase_1\\\\cleaned_split_Part2_Legals_20250819_222734_20250822_212501.json', '2025-08-26T14:10:36.430689', '2025-08-26T14:10:36.430689')\n",
      "  (14, 'a99ef1d05f8842fd', 'قانون تنظیم بخشی از مقررات مالی دولت', 'قانون', None, 'مجلس شورای اسلامی', '18/10/1369', '', 'DOC_009', '', '[]', 0.9, 'data\\\\processed_phase_1\\\\split_Part2_Legals_20250819_222734.json', '2025-08-26T14:10:36.475696', '2025-08-26 10:40:36')\n",
      "  (15, '737627f8e757cccd', 'قانون اهداف، وظایف و تشکیلات وزارت علوم، تحقیقات و فنّاوری', 'قانون', None, 'مجلس شورای اسلامی', '18/5/1383', '', 'DOC_010', '', '[]', 0.9, 'data\\\\processed_phase_1\\\\split_Part2_Legals_20250819_222734.json', '2025-08-26T14:10:36.485669', '2025-08-26 10:40:37')\n"
     ]
    }
   ],
   "source": [
    "# Structure and content of a table\n",
    "table_name = 'documents'\n",
    "\n",
    "# Check the table structure\n",
    "print(f\"--- Schema for table '{table_name}': ---\")\n",
    "# Reconnect to the database and create a new cursor since the previous one was closed\n",
    "conn = sqlite3.connect(db_path)\n",
    "cursor = conn.cursor()\n",
    "cursor.execute(f\"PRAGMA table_info({table_name});\")\n",
    "columns = cursor.fetchall()\n",
    "for col in columns:\n",
    "    print(f\"  - Name: {col[1]}, Type: {col[2]}, Primary Key: {bool(col[5])}\")\n",
    "\n",
    "# Display the first 10 rows of the table\n",
    "print(f\"\\n--- First 10 rows of table '{table_name}': ---\")\n",
    "cursor.execute(f\"SELECT * FROM {table_name} LIMIT 10;\")\n",
    "rows = cursor.fetchall()\n",
    "\n",
    "if not rows:\n",
    "    print(\"  No data found in this table.\")\n",
    "else:\n",
    "    # Display the column names\n",
    "    column_names = [description[0] for description in cursor.description]\n",
    "    print(f\"  Columns: {column_names}\")\n",
    "    # Display the data\n",
    "    for row in rows:\n",
    "        print(f\"  {row}\")"
   ]
  }
 ],
 "metadata": {
  "kernelspec": {
   "display_name": "claude-ai",
   "language": "python",
   "name": "python3"
  },
  "language_info": {
   "codemirror_mode": {
    "name": "ipython",
    "version": 3
   },
   "file_extension": ".py",
   "mimetype": "text/x-python",
   "name": "python",
   "nbconvert_exporter": "python",
   "pygments_lexer": "ipython3",
   "version": "3.11.13"
  }
 },
 "nbformat": 4,
 "nbformat_minor": 5
}
