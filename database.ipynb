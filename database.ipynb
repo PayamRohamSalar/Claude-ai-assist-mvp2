{
 "cells": [
  {
   "cell_type": "markdown",
   "id": "b368710b",
   "metadata": {},
   "source": [
    "# Work with my DataBase"
   ]
  },
  {
   "cell_type": "code",
   "execution_count": 3,
   "id": "492be8d0",
   "metadata": {},
   "outputs": [],
   "source": [
    "import sqlite3\n",
    "import os"
   ]
  },
  {
   "cell_type": "code",
   "execution_count": null,
   "id": "432da48c",
   "metadata": {},
   "outputs": [
    {
     "name": "stdout",
     "output_type": "stream",
     "text": [
      "Connection to the database successful!\n"
     ]
    }
   ],
   "source": [
    "# آدرس فایل دیتابیس\n",
    "db_path = r'data\\db\\legal_assistant.db'\n",
    "# Check if the database file exists\n",
    "if not os.path.exists(db_path):\n",
    "    print(f\"Error: The database file was not found at {db_path}\")\n",
    "else:\n",
    "    try:\n",
    "        # Connect to the database\n",
    "        conn = sqlite3.connect(db_path)\n",
    "        print(\"Connection to the database successful!\")\n",
    "    except sqlite3.Error as e:\n",
    "        print(f\"Error connecting to the database: {e}\")"
   ]
  },
  {
   "cell_type": "code",
   "execution_count": 6,
   "id": "cd38f22e",
   "metadata": {},
   "outputs": [
    {
     "name": "stdout",
     "output_type": "stream",
     "text": [
      "Tables in the database:\n",
      "documents\n",
      "sqlite_sequence\n",
      "chapters\n",
      "articles\n",
      "notes\n",
      "clauses\n",
      "documents_fts\n",
      "documents_fts_data\n",
      "documents_fts_idx\n",
      "documents_fts_docsize\n",
      "documents_fts_config\n",
      "articles_fts\n",
      "articles_fts_data\n",
      "articles_fts_idx\n",
      "articles_fts_docsize\n",
      "articles_fts_config\n",
      "notes_fts\n",
      "notes_fts_data\n",
      "notes_fts_idx\n",
      "notes_fts_docsize\n",
      "notes_fts_config\n",
      "clauses_fts\n",
      "clauses_fts_data\n",
      "clauses_fts_idx\n",
      "clauses_fts_docsize\n",
      "clauses_fts_config\n"
     ]
    }
   ],
   "source": [
    "cursor = conn.cursor()\n",
    "\n",
    "# Query to list tables\n",
    "cursor.execute(\"SELECT name FROM sqlite_master WHERE type='table';\")\n",
    "\n",
    "# Fetch all results\n",
    "tables = cursor.fetchall()\n",
    "print(\"Tables in the database:\")\n",
    "for table in tables:\n",
    "    print(table[0])\n",
    "\n",
    "# Close the connection\n",
    "cursor.close()\n",
    "conn.close()"
   ]
  }
 ],
 "metadata": {
  "kernelspec": {
   "display_name": "claude-ai",
   "language": "python",
   "name": "python3"
  },
  "language_info": {
   "codemirror_mode": {
    "name": "ipython",
    "version": 3
   },
   "file_extension": ".py",
   "mimetype": "text/x-python",
   "name": "python",
   "nbconvert_exporter": "python",
   "pygments_lexer": "ipython3",
   "version": "3.11.13"
  }
 },
 "nbformat": 4,
 "nbformat_minor": 5
}
